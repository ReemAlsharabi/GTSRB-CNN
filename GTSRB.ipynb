{
  "metadata": {
    "kernelspec": {
      "display_name": "Python 3",
      "name": "python3"
    },
    "language_info": {
      "name": "python",
      "version": "3.7.10",
      "mimetype": "text/x-python",
      "codemirror_mode": {
        "name": "ipython",
        "version": 3
      },
      "pygments_lexer": "ipython3",
      "nbconvert_exporter": "python",
      "file_extension": ".py"
    },
    "colab": {
      "provenance": [],
      "gpuType": "T4",
      "include_colab_link": true
    },
    "accelerator": "GPU"
  },
  "nbformat_minor": 0,
  "nbformat": 4,
  "cells": [
    {
      "cell_type": "markdown",
      "metadata": {
        "id": "view-in-github",
        "colab_type": "text"
      },
      "source": [
        "<a href=\"https://colab.research.google.com/github/ReemAlsharabi/GTSRB-CNN/blob/main/GTSRB.ipynb\" target=\"_parent\"><img src=\"https://colab.research.google.com/assets/colab-badge.svg\" alt=\"Open In Colab\"/></a>"
      ]
    },
    {
      "cell_type": "markdown",
      "source": [
        "# Libraries"
      ],
      "metadata": {
        "id": "p4rKFHdntE21"
      }
    },
    {
      "cell_type": "code",
      "source": [
        "#Prepare all our necessary libraries\n",
        "import numpy as np\n",
        "import pandas as pd\n",
        "import os\n",
        "import matplotlib.pyplot as plt\n",
        "\n",
        "#pytorch libraries\n",
        "import torch\n",
        "from torch.utils.data import Dataset, DataLoader\n",
        "from torchvision import datasets, transforms, models\n",
        "from torchvision.transforms import ToTensor, Pad, Compose, CenterCrop, ToPILImage, Normalize, ConvertImageDtype, Resize\n",
        "from torch import nn, optim\n",
        "from torch.nn import init, Linear, ReLU, Softmax\n",
        "from torch.nn.init import xavier_uniform_\n",
        "from torch.optim import SGD, Adam\n",
        "import torch.nn.functional as F\n",
        "from torchvision.io import read_image\n",
        "from torch.utils.data import WeightedRandomSampler\n",
        "\n",
        "import datetime\n",
        "import cv2\n",
        "from PIL import Image\n",
        "\n",
        "from sklearn.utils import compute_class_weight\n",
        "\n",
        "import torch.optim as opt\n",
        "import random\n",
        "from google.colab import drive\n",
        "import zipfile\n",
        "\n",
        "import torch.nn.init as init"
      ],
      "metadata": {
        "_uuid": "8f2839f25d086af736a60e9eeb907d3b93b6e0e5",
        "_cell_guid": "b1076dfc-b9ad-4769-8c92-a6c4dae69d19",
        "execution": {
          "iopub.status.busy": "2023-07-19T07:57:19.687577Z",
          "iopub.execute_input": "2023-07-19T07:57:19.687981Z",
          "iopub.status.idle": "2023-07-19T07:57:20.810587Z",
          "shell.execute_reply.started": "2023-07-19T07:57:19.687927Z",
          "shell.execute_reply": "2023-07-19T07:57:20.809333Z"
        },
        "trusted": true,
        "id": "dA6sTq1WtE2_"
      },
      "execution_count": null,
      "outputs": []
    },
    {
      "cell_type": "markdown",
      "source": [
        "# random seed"
      ],
      "metadata": {
        "id": "Al8R9yBftE3E"
      }
    },
    {
      "cell_type": "code",
      "source": [
        "def set_seed(seed):\n",
        "    \"\"\"Set seed\"\"\"\n",
        "    random.seed(seed)\n",
        "    np.random.seed(seed)\n",
        "    torch.manual_seed(seed)\n",
        "    if torch.cuda.is_available():\n",
        "        torch.cuda.manual_seed(seed)\n",
        "        torch.cuda.manual_seed_all(seed)\n",
        "        torch.backends.cudnn.deterministic = True\n",
        "        torch.backends.cudnn.benchmark = False\n",
        "    print(f'Set seed {seed}')\n",
        "\n",
        "set_seed(42)"
      ],
      "metadata": {
        "execution": {
          "iopub.status.busy": "2023-07-19T07:57:20.812337Z",
          "iopub.execute_input": "2023-07-19T07:57:20.812764Z",
          "iopub.status.idle": "2023-07-19T07:57:20.909034Z",
          "shell.execute_reply.started": "2023-07-19T07:57:20.812718Z",
          "shell.execute_reply": "2023-07-19T07:57:20.908060Z"
        },
        "trusted": true,
        "colab": {
          "base_uri": "https://localhost:8080/"
        },
        "id": "gxrSjWWItE3G",
        "outputId": "4cece7d3-9571-46f9-880f-1b8e5b2ea04a"
      },
      "execution_count": null,
      "outputs": [
        {
          "output_type": "stream",
          "name": "stdout",
          "text": [
            "Set seed 42\n"
          ]
        }
      ]
    },
    {
      "cell_type": "markdown",
      "source": [
        "# Dataset"
      ],
      "metadata": {
        "id": "KtdLRGkJtE3J"
      }
    },
    {
      "cell_type": "code",
      "source": [
        "# Mount Google Drive\n",
        "drive.mount('/content/drive')\n",
        "\n",
        "# Set path to zip file on Google Drive\n",
        "zip_path = '/content/drive/MyDrive/archive.zip'\n",
        "\n",
        "# Set path to directory where unzipped data will be stored\n",
        "data_path = '/content/data'\n",
        "\n",
        "# Unzip data from zip file\n",
        "with zipfile.ZipFile(zip_path, 'r') as zip_ref:\n",
        "    zip_ref.extractall(data_path)"
      ],
      "metadata": {
        "colab": {
          "base_uri": "https://localhost:8080/"
        },
        "id": "nOnPIJ9DuWV2",
        "outputId": "bc878752-a97c-4c09-a5ff-c8466aa52f87"
      },
      "execution_count": null,
      "outputs": [
        {
          "output_type": "stream",
          "name": "stdout",
          "text": [
            "Mounted at /content/drive\n"
          ]
        }
      ]
    },
    {
      "cell_type": "code",
      "source": [
        "# Prepare our Dataset Structure, as it has to be normalized for pytorch\n",
        "class GTSRB(Dataset):\n",
        "    def __init__(self, annotations_file, img_dir , transform=None, target_transform=None):\n",
        "        self.img_labels = pd.read_csv(annotations_file)[[\"Path\",\"ClassId\"]]\n",
        "        self.img_dir = img_dir\n",
        "        self.transform = transform\n",
        "        self.target_transform = target_transform\n",
        "\n",
        "    def __len__(self):\n",
        "        return len(self.img_labels)\n",
        "\n",
        "    def __getitem__(self, idx):\n",
        "        img_path = os.path.join(self.img_dir, self.img_labels.iloc[idx, 0])\n",
        "        label = self.img_labels.iloc[idx, 1]\n",
        "        image = read_image(img_path)\n",
        "        if self.transform:\n",
        "            image = self.transform(image)\n",
        "        if self.target_transform:\n",
        "            label = self.target_transform(label)\n",
        "        return image, label"
      ],
      "metadata": {
        "execution": {
          "iopub.status.busy": "2023-07-19T07:57:20.911046Z",
          "iopub.execute_input": "2023-07-19T07:57:20.911454Z",
          "iopub.status.idle": "2023-07-19T07:57:20.921784Z",
          "shell.execute_reply.started": "2023-07-19T07:57:20.911407Z",
          "shell.execute_reply": "2023-07-19T07:57:20.920745Z"
        },
        "trusted": true,
        "id": "aRblsf4etE3K"
      },
      "execution_count": null,
      "outputs": []
    },
    {
      "cell_type": "markdown",
      "source": [
        "# transformation & dataloaders"
      ],
      "metadata": {
        "id": "l7scR9BqtE3M"
      }
    },
    {
      "cell_type": "code",
      "source": [
        "data_transforms = transforms.Compose([\n",
        "    transforms.ToPILImage(),\n",
        "    transforms.Resize((30,30)),\n",
        "    transforms.RandomApply([\n",
        "        transforms.RandomRotation(20),\n",
        "        transforms.RandomAffine(0, translate=(0.2, 0.2)),\n",
        "        transforms.RandomAffine(0, shear=20),\n",
        "        transforms.RandomAffine(0, scale=(0.8, 1.2))\n",
        "    ]),\n",
        "    transforms.ToTensor(),\n",
        "    transforms.Normalize(mean=[0, 0, 0], std=[1/255, 1/255, 1/255])\n",
        "])\n",
        "\n",
        "# creating training dataset\n",
        "img_dir = data_path\n",
        "train_file = \"/content/data/Train.csv\"\n",
        "train_data = GTSRB(img_dir = img_dir, annotations_file = train_file,\n",
        "                   transform = data_transforms)\n",
        "test_file = \"/content/data/Test.csv\"\n",
        "test_data = GTSRB(img_dir = img_dir, annotations_file = test_file,\n",
        "                   transform = data_transforms)\n",
        "#Prepare DataLoader\n",
        "train_dataloader = DataLoader(train_data, batch_size=32, shuffle=True)\n",
        "test_dataloader = DataLoader(test_data, batch_size=32, shuffle=True)"
      ],
      "metadata": {
        "execution": {
          "iopub.status.busy": "2023-07-19T07:57:20.925339Z",
          "iopub.execute_input": "2023-07-19T07:57:20.925938Z",
          "iopub.status.idle": "2023-07-19T07:57:20.935114Z",
          "shell.execute_reply.started": "2023-07-19T07:57:20.925899Z",
          "shell.execute_reply": "2023-07-19T07:57:20.933749Z"
        },
        "trusted": true,
        "id": "BeZceMuTtE3N"
      },
      "execution_count": null,
      "outputs": []
    },
    {
      "cell_type": "markdown",
      "source": [
        "# samples visualization"
      ],
      "metadata": {
        "id": "LyStUFx4tE3P"
      }
    },
    {
      "cell_type": "code",
      "source": [
        "# Display image and label.\n",
        "train_features, train_labels = next(iter(train_dataloader))\n",
        "test_features, test_labels = next(iter(test_dataloader))\n",
        "\n",
        "print(f\"Feature batch shape: {train_features.size()}\")\n",
        "print(f\"Labels batch shape: {train_labels.size()}\")\n",
        "img = train_features[0]\n",
        "label = train_labels[0]\n",
        "img = ToPILImage()(img).convert(\"RGB\")\n",
        "plt.imshow(img)\n",
        "plt.show()\n",
        "print(f\"Label: {label}\")"
      ],
      "metadata": {
        "execution": {
          "iopub.status.busy": "2023-07-19T07:57:21.309980Z",
          "iopub.execute_input": "2023-07-19T07:57:21.310368Z",
          "iopub.status.idle": "2023-07-19T07:57:22.266667Z",
          "shell.execute_reply.started": "2023-07-19T07:57:21.310332Z",
          "shell.execute_reply": "2023-07-19T07:57:22.265729Z"
        },
        "trusted": true,
        "colab": {
          "base_uri": "https://localhost:8080/",
          "height": 485
        },
        "id": "0RJ_3Tq2tE3R",
        "outputId": "4f74c4e2-f759-415c-ac3a-6b2923bba6fd"
      },
      "execution_count": null,
      "outputs": [
        {
          "output_type": "stream",
          "name": "stdout",
          "text": [
            "Feature batch shape: torch.Size([32, 3, 30, 30])\n",
            "Labels batch shape: torch.Size([32])\n"
          ]
        },
        {
          "output_type": "display_data",
          "data": {
            "text/plain": [
              "<Figure size 640x480 with 1 Axes>"
            ],
            "image/png": "[encoded data removed]"
          },
          "metadata": {}
        },
        {
          "output_type": "stream",
          "name": "stdout",
          "text": [
            "Label: 2\n"
          ]
        }
      ]
    },
    {
      "cell_type": "markdown",
      "source": [
        "# moving data to the GPU"
      ],
      "metadata": {
        "id": "GhQdOIk8tE3S"
      }
    },
    {
      "cell_type": "code",
      "source": [
        "class WrappedDataLoader:\n",
        "    def __init__(self, dl, func):\n",
        "        self.dl = dl\n",
        "        self.func = func\n",
        "\n",
        "    def __len__(self):\n",
        "        return len(self.dl)\n",
        "\n",
        "    def __iter__(self):\n",
        "        batches = iter(self.dl)\n",
        "        for b in batches:\n",
        "            yield (self.func(*b))\n",
        "device = torch.device(\"cuda\" if torch.cuda.is_available() else \"cpu\")\n",
        "def to_device(x, y):\n",
        "    return x.to(device), y.to(device, dtype=torch.int64)\n",
        "train_dataloader = WrappedDataLoader(train_dataloader, to_device)\n",
        "test_dataloader = WrappedDataLoader(test_dataloader, to_device)"
      ],
      "metadata": {
        "id": "Qyfa3jWCtE3U"
      },
      "execution_count": null,
      "outputs": []
    },
    {
      "cell_type": "markdown",
      "source": [
        "# CNN model"
      ],
      "metadata": {
        "id": "djpF7f7ttE3U"
      }
    },
    {
      "cell_type": "code",
      "source": [
        "class conv_net(nn.Module):\n",
        "    def __init__(self, dropout_prob=0.25):\n",
        "        super(conv_net,self).__init__()\n",
        "\n",
        "        self.conv1 = nn.Conv2d(3,32,(3,3), 1, 1)\n",
        "        init.kaiming_uniform_(self.conv1.weight, nonlinearity='relu') # parameter initialization strategy\n",
        "        self.dropout_input = nn.Dropout(p=dropout_prob)\n",
        "        self.bn1 = nn.BatchNorm2d(32)\n",
        "\n",
        "        self.conv2 = nn.Conv2d(32,164, (3,3), 1, 1)\n",
        "        init.kaiming_uniform_(self.conv2.weight, nonlinearity='relu') # parameter initialization strategy\n",
        "        self.bn2 = nn.BatchNorm2d(164)\n",
        "\n",
        "        self.conv3 = nn.Conv2d(164,128,(3,3), 1, 1)\n",
        "        init.kaiming_uniform_(self.conv3.weight, nonlinearity='relu') # parameter initialization strategy\n",
        "        self.bn3 = nn.BatchNorm2d(128)\n",
        "\n",
        "        self.linear1 = nn.Linear(128*3*3,512)\n",
        "        init.kaiming_uniform_(self.linear1.weight, nonlinearity='relu') # parameter initialization strategy\n",
        "        self.linear2 = nn.Linear(512,256)\n",
        "        init.kaiming_uniform_(self.linear2.weight, nonlinearity='relu') # parameter initialization strategy\n",
        "        self.linear3 = nn.Linear(256,43)\n",
        "        init.kaiming_uniform_(self.linear3.weight, nonlinearity='relu') # parameter initialization strategy\n",
        "\n",
        "        self.relu = nn.ELU(alpha=1.0)\n",
        "        self.pool = nn.MaxPool2d((2,2))\n",
        "        self.dropout1 = nn.Dropout(p=dropout_prob)\n",
        "        self.dropout2 = nn.Dropout(p=dropout_prob)\n",
        "\n",
        "    def forward(self, X):\n",
        "        if self.training:\n",
        "            # Apply dropout during training\n",
        "            X = self.pool(self.relu(self.bn1(self.conv1(X)))) # (30)/2 = 15\n",
        "            X = self.dropout1(X)\n",
        "            X = self.pool(self.relu(self.bn2(self.conv2(X)))) # (15)/2 = 7\n",
        "            X = self.dropout1(X)\n",
        "            X = self.pool(self.relu(self.bn3(self.conv3(X)))) # (7)/2 = 3\n",
        "\n",
        "            X = X.view(X.size(0),-1)  # Flatten the tensor\n",
        "            X = F.relu(self.linear1(X))\n",
        "            X = self.dropout2(X)\n",
        "            X = F.relu(self.linear2(X))\n",
        "            X = self.linear3(X)\n",
        "\n",
        "        else:\n",
        "            # Apply Monte Carlo dropout during evaluation\n",
        "            outputs = []\n",
        "            for i in range(20):\n",
        "                X = self.pool(self.relu(self.bn1(self.conv1(X))))\n",
        "                X = self.pool(self.relu(self.bn2(self.conv2(X))))\n",
        "                X = self.pool(self.relu(self.bn3(self.conv3(X))))\n",
        "                X = X.view(X.size(0),-1)\n",
        "                X = F.relu(self.linear1(X))\n",
        "                X = F.relu(self.linear2(X))\n",
        "                X = self.linear3(X)\n",
        "                outputs.append(X)\n",
        "            X = torch.stack(outputs).mean(0)\n",
        "\n",
        "        return X"
      ],
      "metadata": {
        "execution": {
          "iopub.status.busy": "2023-07-19T14:12:20.675453Z",
          "iopub.execute_input": "2023-07-19T14:12:20.675877Z",
          "iopub.status.idle": "2023-07-19T14:12:20.700905Z",
          "shell.execute_reply.started": "2023-07-19T14:12:20.675810Z",
          "shell.execute_reply": "2023-07-19T14:12:20.699310Z"
        },
        "trusted": true,
        "id": "Tq1SYf3ztE3V"
      },
      "execution_count": null,
      "outputs": []
    },
    {
      "cell_type": "markdown",
      "source": [
        "# plotting the loss"
      ],
      "metadata": {
        "id": "9d5oMMP7tE3W"
      }
    },
    {
      "cell_type": "code",
      "source": [
        "def plot(train_losses, val_losses, train_accs, val_accs):\n",
        "    plt.figure(figsize=(10, 4))\n",
        "    plt.subplot(1, 2, 1)\n",
        "    plt.plot(train_losses, label='Train Loss')\n",
        "    plt.plot(val_losses, label='Val Loss')\n",
        "    plt.legend()\n",
        "    plt.subplot(1, 2, 2)\n",
        "    plt.plot(train_accs, label='Train Accuracy')\n",
        "    plt.plot(val_accs, label='Val Accuracy')\n",
        "    plt.legend()\n",
        "    plt.tight_layout()\n",
        "    plt.show()"
      ],
      "metadata": {
        "execution": {
          "iopub.status.busy": "2023-07-19T09:46:54.808524Z",
          "iopub.execute_input": "2023-07-19T09:46:54.808900Z",
          "iopub.status.idle": "2023-07-19T09:46:54.816886Z",
          "shell.execute_reply.started": "2023-07-19T09:46:54.808854Z",
          "shell.execute_reply": "2023-07-19T09:46:54.815823Z"
        },
        "trusted": true,
        "id": "_758PcKWtE3W"
      },
      "execution_count": null,
      "outputs": []
    },
    {
      "cell_type": "markdown",
      "source": [
        "# Training utilities"
      ],
      "metadata": {
        "id": "zqkDZy1htE3X"
      }
    },
    {
      "cell_type": "code",
      "source": [
        "def clip_gradients_(\n",
        "    clip_grad_strategy,\n",
        "    model_fn,\n",
        "    clip_value=None,\n",
        "    error_if_nonfinite=False,\n",
        "    max_norm=None,\n",
        "    norm_type=2.0):\n",
        "    if clip_grad_strategy == \"value\" and clip_value is not None:\n",
        "        nn.utils.clip_grad_value_(\n",
        "            model_fn.parameters(),\n",
        "            clip_value\n",
        "        )\n",
        "    elif clip_grad_strategy == \"norm\" and max_norm is not None:\n",
        "        nn.utils.clip_grad_norm_(\n",
        "            model_fn.parameters(),\n",
        "            max_norm,\n",
        "            norm_type,\n",
        "            error_if_nonfinite\n",
        "        )\n",
        "    elif clip_grad_strategy is None:\n",
        "        pass\n",
        "    else:\n",
        "        raise NotImplementedError()"
      ],
      "metadata": {
        "execution": {
          "iopub.status.busy": "2023-07-19T12:30:34.729802Z",
          "iopub.execute_input": "2023-07-19T12:30:34.730247Z",
          "iopub.status.idle": "2023-07-19T12:30:34.737238Z",
          "shell.execute_reply.started": "2023-07-19T12:30:34.730206Z",
          "shell.execute_reply": "2023-07-19T12:30:34.736239Z"
        },
        "trusted": true,
        "id": "f0GCAxD2tE3X"
      },
      "execution_count": null,
      "outputs": []
    },
    {
      "cell_type": "markdown",
      "source": [
        "# Training loop"
      ],
      "metadata": {
        "id": "BZRrfSIPtE3Y"
      }
    },
    {
      "cell_type": "code",
      "source": [
        "model = conv_net()\n",
        "# put on cuda if possible\n",
        "device = torch.device(\"cuda:0\" if torch.cuda.is_available() else \"cpu\")\n",
        "model.to(device)\n",
        "\n",
        "lr=0.1\n",
        "nb_epochs = 100\n",
        "criterion = nn.CrossEntropyLoss(reduction = \"mean\") # loss function\n",
        "\n",
        "# SGD w momentum\n",
        "optim = opt.SGD(\n",
        "    model.parameters(),\n",
        "    lr=lr/10,\n",
        "    momentum=0.9,\n",
        "    dampening=0.0,\n",
        ")\n",
        "\n",
        "\n",
        "# lr_scheduler = opt.lr_scheduler.ExponentialLR(\n",
        "#     optim,\n",
        "#     gamma=0.9\n",
        "# )\n",
        "\n",
        "# lr_scheduler = opt.lr_scheduler.StepLR(\n",
        "#     optim,\n",
        "#     step_size=5,\n",
        "#     gamma=0.1,\n",
        "# )\n",
        "\n",
        "# lr_scheduler = opt.lr_scheduler.CosineAnnealingLR(optim, T_max=nb_epochs)\n",
        "\n",
        "lr_scheduler = opt.lr_scheduler.OneCycleLR(\n",
        "    optim,\n",
        "    epochs=nb_epochs,\n",
        "    steps_per_epoch=1, # because we update after each epoch!\n",
        "    max_lr=lr,\n",
        ")\n",
        "\n",
        "\n",
        "# best_val_loss = float('inf')\n",
        "accuracy = []\n",
        "train_losses = []\n",
        "val_losses = []\n",
        "train_accs = []\n",
        "val_accs = []\n",
        "lrs = []\n",
        "\n",
        "for epoch in range(nb_epochs):\n",
        "    total_train_loss = 0.0\n",
        "    correct_train = 0\n",
        "    total_train = 0\n",
        "    for i, data in enumerate(train_dataloader, 0):\n",
        "        train_features, train_labels = data\n",
        "        train_features, train_labels = train_features.to(device), train_labels.to(device)\n",
        "\n",
        "        model.eval()\n",
        "        model.train()\n",
        "\n",
        "        optim.zero_grad()\n",
        "\n",
        "        # forward pass\n",
        "        prediction = model(train_features).to(torch.float32)\n",
        "        loss = criterion(prediction, train_labels.to(torch.long))\n",
        "\n",
        "        # backward pass\n",
        "        loss.backward()\n",
        "        clip_gradients_(\n",
        "                clip_grad_strategy=None,\n",
        "                model_fn = model,\n",
        "                clip_value=None,\n",
        "                error_if_nonfinite=False,\n",
        "                max_norm=None,\n",
        "                norm_type=2.0\n",
        "            )\n",
        "        optim.step()\n",
        "\n",
        "        total_train_loss += loss.item()\n",
        "        _, predicted = torch.max(prediction.data, 1)\n",
        "        total_train += train_labels.size(0)\n",
        "        correct_train += (predicted == train_labels).sum().item()\n",
        "\n",
        "    train_loss = total_train_loss / len(train_dataloader)\n",
        "    train_losses.append(train_loss)\n",
        "    train_acc = correct_train / total_train\n",
        "    train_accs.append(train_acc)\n",
        "    total_val_loss = 0.0\n",
        "    correct_val = 0\n",
        "    total_val = 0\n",
        "\n",
        "    # validation accuracy\n",
        "    with torch.no_grad():\n",
        "        for j, test_data in enumerate(test_dataloader, 0):\n",
        "            test_features, test_labels = test_data\n",
        "            test_features, test_labels = test_features.to(device), test_labels.to(device)\n",
        "            test_prediction = model(test_features).to(torch.float32)\n",
        "\n",
        "            val_loss = criterion(test_prediction, test_labels)\n",
        "            total_val_loss += val_loss.item()\n",
        "            _, test_predicted = torch.max(test_prediction.data, 1)\n",
        "            total_val += test_labels.size(0)\n",
        "            correct_val += (test_predicted == test_labels).sum().item()\n",
        "    val_loss = total_val_loss / len(test_dataloader)\n",
        "    val_losses.append(val_loss)\n",
        "    val_acc = correct_val / total_val\n",
        "    val_accs.append(val_acc)\n",
        "\n",
        "    # update the learning rate after every training epoch\n",
        "    if lr_scheduler is not None:\n",
        "        lrs.append(lr_scheduler.get_last_lr()[-1])\n",
        "        lr_scheduler.step()\n",
        "\n",
        "    # Save the weights if this is the best epoch so far\n",
        "    if val_loss < best_val_loss:\n",
        "        best_val_loss = val_loss\n",
        "        torch.save(model.state_dict(), 'best_weights.pth')\n",
        "\n",
        "    print(f\"Epoch {epoch}, Train Loss {train_loss:.4f}, Train Accuracy {train_acc:.4f}, Val Loss {val_loss:.4f}, Val Accuracy {val_acc:.4f}\")\n",
        "\n",
        "plot(train_losses, val_losses, train_accs, val_accs)"
      ],
      "metadata": {
        "execution": {
          "iopub.status.busy": "2023-07-19T14:12:24.360263Z",
          "iopub.execute_input": "2023-07-19T14:12:24.360660Z"
        },
        "trusted": true,
        "colab": {
          "base_uri": "https://localhost:8080/"
        },
        "id": "F197EW8CtE3Y",
        "outputId": "91570bd5-4ada-482a-f4a9-845d2594ffe5"
      },
      "execution_count": null,
      "outputs": [
        {
          "output_type": "stream",
          "name": "stdout",
          "text": [
            "Epoch 0, Train Loss 2.2916, Train Accuracy 0.3272, Val Loss 1.8201, Val Accuracy 0.4348\n",
            "Epoch 1, Train Loss 1.3113, Train Accuracy 0.5794, Val Loss 1.3231, Val Accuracy 0.5995\n",
            "Epoch 2, Train Loss 0.8950, Train Accuracy 0.7113, Val Loss 0.9485, Val Accuracy 0.7036\n",
            "Epoch 3, Train Loss 0.6944, Train Accuracy 0.7740, Val Loss 0.8861, Val Accuracy 0.7246\n",
            "Epoch 4, Train Loss 0.5827, Train Accuracy 0.8113, Val Loss 0.7369, Val Accuracy 0.7735\n",
            "Epoch 5, Train Loss 0.5070, Train Accuracy 0.8340, Val Loss 0.7094, Val Accuracy 0.7851\n",
            "Epoch 6, Train Loss 0.4474, Train Accuracy 0.8536, Val Loss 0.7230, Val Accuracy 0.7831\n",
            "Epoch 7, Train Loss 0.4196, Train Accuracy 0.8657, Val Loss 0.6391, Val Accuracy 0.8100\n",
            "Epoch 8, Train Loss 0.3688, Train Accuracy 0.8792, Val Loss 0.6433, Val Accuracy 0.8146\n",
            "Epoch 9, Train Loss 0.3540, Train Accuracy 0.8858, Val Loss 0.5611, Val Accuracy 0.8337\n",
            "Epoch 10, Train Loss 0.3282, Train Accuracy 0.8934, Val Loss 0.5599, Val Accuracy 0.8322\n",
            "Epoch 11, Train Loss 0.3142, Train Accuracy 0.8985, Val Loss 0.5564, Val Accuracy 0.8378\n",
            "Epoch 12, Train Loss 0.2984, Train Accuracy 0.9046, Val Loss 0.5577, Val Accuracy 0.8359\n",
            "Epoch 13, Train Loss 0.2842, Train Accuracy 0.9072, Val Loss 0.5050, Val Accuracy 0.8562\n",
            "Epoch 14, Train Loss 0.2705, Train Accuracy 0.9113, Val Loss 0.5314, Val Accuracy 0.8515\n",
            "Epoch 15, Train Loss 0.2646, Train Accuracy 0.9140, Val Loss 0.5037, Val Accuracy 0.8561\n",
            "Epoch 16, Train Loss 0.2497, Train Accuracy 0.9190, Val Loss 0.4491, Val Accuracy 0.8718\n",
            "Epoch 17, Train Loss 0.2448, Train Accuracy 0.9208, Val Loss 0.4942, Val Accuracy 0.8606\n",
            "Epoch 18, Train Loss 0.2374, Train Accuracy 0.9235, Val Loss 0.4640, Val Accuracy 0.8654\n",
            "Epoch 19, Train Loss 0.2255, Train Accuracy 0.9273, Val Loss 0.4739, Val Accuracy 0.8656\n",
            "Epoch 20, Train Loss 0.2275, Train Accuracy 0.9247, Val Loss 0.4611, Val Accuracy 0.8698\n",
            "Epoch 21, Train Loss 0.2170, Train Accuracy 0.9301, Val Loss 0.4490, Val Accuracy 0.8692\n",
            "Epoch 22, Train Loss 0.2083, Train Accuracy 0.9320, Val Loss 0.4861, Val Accuracy 0.8705\n",
            "Epoch 23, Train Loss 0.2063, Train Accuracy 0.9335, Val Loss 0.4658, Val Accuracy 0.8759\n",
            "Epoch 24, Train Loss 0.2016, Train Accuracy 0.9344, Val Loss 0.4164, Val Accuracy 0.8844\n",
            "Epoch 25, Train Loss 0.1915, Train Accuracy 0.9379, Val Loss 0.4795, Val Accuracy 0.8724\n",
            "Epoch 26, Train Loss 0.1899, Train Accuracy 0.9395, Val Loss 0.4426, Val Accuracy 0.8814\n",
            "Epoch 27, Train Loss 0.1801, Train Accuracy 0.9415, Val Loss 0.4195, Val Accuracy 0.8838\n",
            "Epoch 28, Train Loss 0.1845, Train Accuracy 0.9405, Val Loss 0.4562, Val Accuracy 0.8760\n",
            "Epoch 29, Train Loss 0.1818, Train Accuracy 0.9412, Val Loss 0.4214, Val Accuracy 0.8858\n",
            "Epoch 30, Train Loss 0.1674, Train Accuracy 0.9460, Val Loss 0.4407, Val Accuracy 0.8837\n",
            "Epoch 31, Train Loss 0.1719, Train Accuracy 0.9444, Val Loss 0.4113, Val Accuracy 0.8885\n",
            "Epoch 32, Train Loss 0.1680, Train Accuracy 0.9455, Val Loss 0.4191, Val Accuracy 0.8884\n",
            "Epoch 33, Train Loss 0.1674, Train Accuracy 0.9453, Val Loss 0.4323, Val Accuracy 0.8865\n",
            "Epoch 34, Train Loss 0.1648, Train Accuracy 0.9480, Val Loss 0.4131, Val Accuracy 0.8906\n",
            "Epoch 35, Train Loss 0.1618, Train Accuracy 0.9471, Val Loss 0.3962, Val Accuracy 0.8892\n",
            "Epoch 36, Train Loss 0.1580, Train Accuracy 0.9506, Val Loss 0.3926, Val Accuracy 0.8911\n",
            "Epoch 37, Train Loss 0.1539, Train Accuracy 0.9500, Val Loss 0.3882, Val Accuracy 0.9016\n",
            "Epoch 38, Train Loss 0.1516, Train Accuracy 0.9503, Val Loss 0.3694, Val Accuracy 0.8986\n",
            "Epoch 39, Train Loss 0.1505, Train Accuracy 0.9509, Val Loss 0.4031, Val Accuracy 0.8975\n",
            "Epoch 40, Train Loss 0.1505, Train Accuracy 0.9523, Val Loss 0.3850, Val Accuracy 0.9004\n",
            "Epoch 41, Train Loss 0.1451, Train Accuracy 0.9543, Val Loss 0.3990, Val Accuracy 0.8904\n",
            "Epoch 42, Train Loss 0.1404, Train Accuracy 0.9540, Val Loss 0.4261, Val Accuracy 0.8950\n",
            "Epoch 43, Train Loss 0.1359, Train Accuracy 0.9563, Val Loss 0.3989, Val Accuracy 0.8946\n",
            "Epoch 44, Train Loss 0.1402, Train Accuracy 0.9552, Val Loss 0.3683, Val Accuracy 0.9022\n",
            "Epoch 45, Train Loss 0.1366, Train Accuracy 0.9560, Val Loss 0.4085, Val Accuracy 0.8968\n",
            "Epoch 46, Train Loss 0.1338, Train Accuracy 0.9577, Val Loss 0.4023, Val Accuracy 0.8964\n",
            "Epoch 47, Train Loss 0.1381, Train Accuracy 0.9564, Val Loss 0.3707, Val Accuracy 0.8965\n",
            "Epoch 48, Train Loss 0.1376, Train Accuracy 0.9565, Val Loss 0.3915, Val Accuracy 0.9028\n",
            "Epoch 49, Train Loss 0.1247, Train Accuracy 0.9604, Val Loss 0.4425, Val Accuracy 0.8972\n",
            "Epoch 50, Train Loss 0.1233, Train Accuracy 0.9599, Val Loss 0.4212, Val Accuracy 0.8984\n",
            "Epoch 51, Train Loss 0.1304, Train Accuracy 0.9585, Val Loss 0.3770, Val Accuracy 0.9074\n",
            "Epoch 52, Train Loss 0.1274, Train Accuracy 0.9599, Val Loss 0.3952, Val Accuracy 0.9006\n",
            "Epoch 53, Train Loss 0.1247, Train Accuracy 0.9611, Val Loss 0.3754, Val Accuracy 0.9021\n",
            "Epoch 54, Train Loss 0.1168, Train Accuracy 0.9627, Val Loss 0.3708, Val Accuracy 0.9089\n",
            "Epoch 55, Train Loss 0.1258, Train Accuracy 0.9604, Val Loss 0.3961, Val Accuracy 0.8987\n",
            "Epoch 56, Train Loss 0.1194, Train Accuracy 0.9619, Val Loss 0.3912, Val Accuracy 0.9073\n",
            "Epoch 57, Train Loss 0.1175, Train Accuracy 0.9623, Val Loss 0.3893, Val Accuracy 0.9035\n",
            "Epoch 58, Train Loss 0.1208, Train Accuracy 0.9633, Val Loss 0.3365, Val Accuracy 0.9103\n",
            "Epoch 59, Train Loss 0.1147, Train Accuracy 0.9633, Val Loss 0.3338, Val Accuracy 0.9166\n",
            "Epoch 60, Train Loss 0.1136, Train Accuracy 0.9638, Val Loss 0.4128, Val Accuracy 0.9019\n",
            "Epoch 61, Train Loss 0.1166, Train Accuracy 0.9635, Val Loss 0.3891, Val Accuracy 0.9074\n",
            "Epoch 62, Train Loss 0.1179, Train Accuracy 0.9628, Val Loss 0.3802, Val Accuracy 0.9045\n",
            "Epoch 63, Train Loss 0.1159, Train Accuracy 0.9635, Val Loss 0.3315, Val Accuracy 0.9161\n",
            "Epoch 64, Train Loss 0.1151, Train Accuracy 0.9633, Val Loss 0.3711, Val Accuracy 0.9129\n",
            "Epoch 65, Train Loss 0.1129, Train Accuracy 0.9639, Val Loss 0.4021, Val Accuracy 0.9026\n",
            "Epoch 66, Train Loss 0.1088, Train Accuracy 0.9657, Val Loss 0.3620, Val Accuracy 0.9066\n",
            "Epoch 67, Train Loss 0.1089, Train Accuracy 0.9649, Val Loss 0.3727, Val Accuracy 0.9059\n",
            "Epoch 68, Train Loss 0.1113, Train Accuracy 0.9660, Val Loss 0.3810, Val Accuracy 0.9082\n",
            "Epoch 69, Train Loss 0.1084, Train Accuracy 0.9659, Val Loss 0.3721, Val Accuracy 0.9106\n",
            "Epoch 70, Train Loss 0.1076, Train Accuracy 0.9654, Val Loss 0.3608, Val Accuracy 0.9154\n",
            "Epoch 71, Train Loss 0.1065, Train Accuracy 0.9662, Val Loss 0.3864, Val Accuracy 0.9110\n",
            "Epoch 72, Train Loss 0.1009, Train Accuracy 0.9673, Val Loss 0.3574, Val Accuracy 0.9134\n",
            "Epoch 73, Train Loss 0.1090, Train Accuracy 0.9650, Val Loss 0.4123, Val Accuracy 0.9051\n",
            "Epoch 74, Train Loss 0.1090, Train Accuracy 0.9657, Val Loss 0.3691, Val Accuracy 0.9125\n",
            "Epoch 75, Train Loss 0.1014, Train Accuracy 0.9671, Val Loss 0.3907, Val Accuracy 0.9113\n",
            "Epoch 76, Train Loss 0.0994, Train Accuracy 0.9688, Val Loss 0.3938, Val Accuracy 0.9098\n",
            "Epoch 77, Train Loss 0.1053, Train Accuracy 0.9678, Val Loss 0.3736, Val Accuracy 0.9131\n",
            "Epoch 78, Train Loss 0.1002, Train Accuracy 0.9685, Val Loss 0.4033, Val Accuracy 0.9055\n",
            "Epoch 79, Train Loss 0.1024, Train Accuracy 0.9673, Val Loss 0.3464, Val Accuracy 0.9119\n",
            "Epoch 80, Train Loss 0.0947, Train Accuracy 0.9697, Val Loss 0.3641, Val Accuracy 0.9192\n",
            "Epoch 81, Train Loss 0.0933, Train Accuracy 0.9698, Val Loss 0.3728, Val Accuracy 0.9156\n",
            "Epoch 82, Train Loss 0.0962, Train Accuracy 0.9702, Val Loss 0.3678, Val Accuracy 0.9158\n",
            "Epoch 83, Train Loss 0.0959, Train Accuracy 0.9696, Val Loss 0.3876, Val Accuracy 0.9113\n",
            "Epoch 84, Train Loss 0.0964, Train Accuracy 0.9701, Val Loss 0.4144, Val Accuracy 0.9107\n",
            "Epoch 85, Train Loss 0.0966, Train Accuracy 0.9701, Val Loss 0.3627, Val Accuracy 0.9137\n",
            "Epoch 86, Train Loss 0.0977, Train Accuracy 0.9693, Val Loss 0.3495, Val Accuracy 0.9154\n",
            "Epoch 87, Train Loss 0.0926, Train Accuracy 0.9707, Val Loss 0.3587, Val Accuracy 0.9184\n",
            "Epoch 88, Train Loss 0.0982, Train Accuracy 0.9688, Val Loss 0.3770, Val Accuracy 0.9105\n",
            "Epoch 89, Train Loss 0.0951, Train Accuracy 0.9690, Val Loss 0.3674, Val Accuracy 0.9134\n",
            "Epoch 90, Train Loss 0.0890, Train Accuracy 0.9717, Val Loss 0.4140, Val Accuracy 0.9116\n",
            "Epoch 91, Train Loss 0.0924, Train Accuracy 0.9711, Val Loss 0.3910, Val Accuracy 0.9144\n",
            "Epoch 92, Train Loss 0.0958, Train Accuracy 0.9702, Val Loss 0.3132, Val Accuracy 0.9222\n"
          ]
        }
      ]
    },
    {
      "cell_type": "code",
      "source": [
        "plt.plot(lrs)\n",
        "plt.title(\"lr_scheduler\")\n",
        "plt.xlabel('Epoch')\n",
        "plt.ylabel('Learning Rate')\n",
        "plt.show()"
      ],
      "metadata": {
        "colab": {
          "base_uri": "https://localhost:8080/",
          "height": 449
        },
        "id": "O-HfvmyLyoGi",
        "outputId": "fa2b3226-2a58-4a11-8a88-dd76299b1071"
      },
      "execution_count": null,
      "outputs": [
        {
          "output_type": "display_data",
          "data": {
            "text/plain": [
              "<Figure size 640x480 with 1 Axes>"
            ],
            "image/png": "[encoded data removed]"
          },
          "metadata": {}
        }
      ]
    },
    {
      "cell_type": "code",
      "source": [
        "type(lr_scheduler)"
      ],
      "metadata": {
        "id": "pUlXtfZ1FMjd"
      },
      "execution_count": null,
      "outputs": []
    },
    {
      "cell_type": "code",
      "source": [],
      "metadata": {
        "id": "9QwQqeQX2agJ"
      },
      "execution_count": null,
      "outputs": []
    }
  ]
}